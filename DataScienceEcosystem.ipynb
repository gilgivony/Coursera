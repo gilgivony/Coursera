{
  "metadata": {
    "kernelspec": {
      "name": "python",
      "display_name": "Python (Pyodide)",
      "language": "python"
    },
    "language_info": {
      "codemirror_mode": {
        "name": "python",
        "version": 3
      },
      "file_extension": ".py",
      "mimetype": "text/x-python",
      "name": "python",
      "nbconvert_exporter": "python",
      "pygments_lexer": "ipython3",
      "version": "3.8"
    }
  },
  "nbformat_minor": 5,
  "nbformat": 4,
  "cells": [
    {
      "id": "644eee4d-bf64-4c31-a7c6-54497a79a1b4",
      "cell_type": "markdown",
      "source": "# Data Science Tools and Ecosystem",
      "metadata": {}
    },
    {
      "id": "2d069184-1db7-49d0-92a7-121f4aa45f62",
      "cell_type": "markdown",
      "source": "In this notebook, Data Science Tools and Ecosystem are summarized.",
      "metadata": {}
    },
    {
      "id": "08c32daf-ad6d-4911-b51c-cd866a39d156",
      "cell_type": "markdown",
      "source": "**Objectives:**\n  - Create a code cell to convert minutes to hours\n - Create a markdown cell to list data science languages\n - Create a markdown cell for an introduction\n\n",
      "metadata": {}
    },
    {
      "id": "0cc48ffc-5dc6-4c49-aac6-59779dbde7a3",
      "cell_type": "markdown",
      "source": "Some of the popular languages that Data Scientists use are:\n\n 1. Python\n 2. R\n 3. SQL\n 4. Julia",
      "metadata": {}
    },
    {
      "id": "9c806f30-e2ae-4fa2-8ba9-93753e17fddb",
      "cell_type": "markdown",
      "source": "| Data Science Tools | \n| --- | \n| Apache Spark | \n| TensorFlow |\n| Apache Hadoop |",
      "metadata": {}
    },
    {
      "id": "a4a992bf-2de5-4e2b-a97d-85251bbc40c2",
      "cell_type": "markdown",
      "source": "### Below are a few examples of evaluating arithmetic expressions in Python",
      "metadata": {}
    },
    {
      "id": "6d26b8d5-545a-4d19-8415-bde025418aba",
      "cell_type": "markdown",
      "source": "This a simple arithmetic expression to mutiply then add integers",
      "metadata": {}
    },
    {
      "id": "65226ba3-495f-4d59-8f09-a1db06c12ca1",
      "cell_type": "code",
      "source": "print(3*4+5)",
      "metadata": {
        "trusted": true
      },
      "outputs": [
        {
          "name": "stdout",
          "output_type": "stream",
          "text": "17\n"
        }
      ],
      "execution_count": 13
    },
    {
      "id": "e6fb2604-5f6b-4722-b4bc-be45181f455e",
      "cell_type": "raw",
      "source": "This will convert 200 minutes to hours by diving by 60",
      "metadata": {}
    },
    {
      "id": "dc860902-491b-49dd-8c3a-1220392b2419",
      "cell_type": "code",
      "source": "print(200/60)",
      "metadata": {
        "trusted": true
      },
      "outputs": [
        {
          "name": "stdout",
          "output_type": "stream",
          "text": "3.3333333333333335\n"
        }
      ],
      "execution_count": 14
    },
    {
      "id": "9e1d49be-8364-4c30-aba5-535f96a21d01",
      "cell_type": "markdown",
      "source": "## Author\nGil",
      "metadata": {}
    },
    {
      "id": "3b42a848-77ab-4939-915f-3b1f3cbedc28",
      "cell_type": "code",
      "source": "",
      "metadata": {
        "trusted": true
      },
      "outputs": [],
      "execution_count": null
    }
  ]
}